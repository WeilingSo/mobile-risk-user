{
 "cells": [
  {
   "cell_type": "code",
   "execution_count": 1,
   "metadata": {
    "collapsed": true
   },
   "outputs": [],
   "source": [
    "import pandas as pd\n",
    "import numpy as np\n",
    "import re"
   ]
  },
  {
   "cell_type": "code",
   "execution_count": 2,
   "metadata": {},
   "outputs": [
    {
     "name": "stderr",
     "output_type": "stream",
     "text": [
      "/home/suhuiling/anaconda3/lib/python3.6/site-packages/IPython/core/interactiveshell.py:2717: DtypeWarning: Columns (2) have mixed types. Specify dtype option on import or set low_memory=False.\n",
      "  interactivity=interactivity, compiler=compiler, result=result)\n"
     ]
    }
   ],
   "source": [
    "uid_train = pd.read_csv('../data/uid_train.txt',sep='\\t',header=None,names=('uid','label'))\n",
    "voice_train = pd.read_csv('../data/voice_train.txt',sep='\\t',header=None,names=('uid','opp_num','opp_head','opp_len','start_time','end_time','call_type','in_out'),dtype={'start_time':str,'end_time':str})\n",
    "sms_train = pd.read_csv('../data/sms_train.txt',sep='\\t',header=None,names=('uid','opp_num','opp_head','opp_len','start_time','in_out'),dtype={'start_time':str})\n",
    "wa_train = pd.read_csv('../data/wa_train.txt',sep='\\t',header=None,names=('uid','wa_name','visit_cnt','visit_dura','up_flow','down_flow','wa_type','date'),dtype={'date':str})"
   ]
  },
  {
   "cell_type": "code",
   "execution_count": 3,
   "metadata": {
    "collapsed": true
   },
   "outputs": [],
   "source": [
    "voice_test = pd.read_csv('../data/voice_test_b.txt',sep='\\t',header=None,names=('uid','opp_num','opp_head','opp_len','start_time','end_time','call_type','in_out'),dtype={'start_time':str,'end_time':str})\n",
    "sms_test = pd.read_csv('../data/sms_test_b.txt',sep='\\t',header=None,names=('uid','opp_num','opp_head','opp_len','start_time','in_out'),dtype={'start_time':str})\n",
    "wa_test = pd.read_csv('../data/wa_test_b.txt',sep='\\t',header=None,names=('uid','wa_name','visit_cnt','visit_dura','up_flow','down_flow','wa_type','date'),dtype={'date':str})"
   ]
  },
  {
   "cell_type": "code",
   "execution_count": 4,
   "metadata": {
    "collapsed": true
   },
   "outputs": [],
   "source": [
    "prefix = np.array(['u'])\n",
    "uid_num = np.arange(7000,10000)\n",
    "uid_num_char = uid_num.astype('U')\n",
    "uid_num_str = np.core.defchararray.add(prefix, uid_num_char)\n",
    "uid_test = pd.DataFrame(uid_num_str, columns=['uid'])\n",
    "uid_test.to_csv('../data/uid_test_a.txt',index=None)"
   ]
  },
  {
   "cell_type": "code",
   "execution_count": 5,
   "metadata": {
    "collapsed": true
   },
   "outputs": [],
   "source": [
    "voice = pd.concat([voice_train,voice_test],axis=0)\n",
    "sms = pd.concat([sms_train,sms_test],axis=0)\n",
    "wa = pd.concat([wa_train,wa_test],axis=0)"
   ]
  },
  {
   "cell_type": "code",
   "execution_count": 6,
   "metadata": {
    "collapsed": true
   },
   "outputs": [],
   "source": [
    "voice.start_time = voice.start_time.astype(int)\n",
    "voice.end_time = voice.end_time.astype(int)\n",
    "voice['date'] = voice.start_time//1000000\n",
    "voice['hour'] = voice.start_time%1000000//10000\n",
    "\n",
    "sms.start_time = sms.start_time.astype(int)\n",
    "sms['date'] = sms.start_time//1000000\n",
    "sms['hour'] = sms.start_time%1000000//10000\n",
    "\n",
    "wa.date = wa.date.fillna(0).astype(int)\n",
    "wa.up_flow = wa.up_flow.fillna(0).astype(int)\n",
    "wa.down_flow = wa.down_flow.fillna(0).astype(int)\n",
    "wa.visit_dura = wa.visit_dura.fillna(0).astype(int)\n",
    "wa.visit_cnt = wa.visit_cnt.fillna(0).astype(int)"
   ]
  },
  {
   "cell_type": "markdown",
   "metadata": {},
   "source": [
    "### 通话记录"
   ]
  },
  {
   "cell_type": "code",
   "execution_count": 7,
   "metadata": {
    "scrolled": true
   },
   "outputs": [
    {
     "name": "stderr",
     "output_type": "stream",
     "text": [
      "/home/suhuiling/anaconda3/lib/python3.6/site-packages/ipykernel_launcher.py:3: FutureWarning: using a dict on a Series for aggregation\n",
      "is deprecated and will be removed in a future version\n",
      "  This is separate from the ipykernel package so we can avoid doing imports until\n",
      "/home/suhuiling/anaconda3/lib/python3.6/site-packages/ipykernel_launcher.py:6: FutureWarning: using a dict on a Series for aggregation\n",
      "is deprecated and will be removed in a future version\n",
      "  \n",
      "/home/suhuiling/anaconda3/lib/python3.6/site-packages/ipykernel_launcher.py:24: FutureWarning: using a dict on a Series for aggregation\n",
      "is deprecated and will be removed in a future version\n",
      "/home/suhuiling/anaconda3/lib/python3.6/site-packages/ipykernel_launcher.py:27: FutureWarning: using a dict on a Series for aggregation\n",
      "is deprecated and will be removed in a future version\n"
     ]
    }
   ],
   "source": [
    "voice['voice_dura']=abs(voice.end_time.astype('int')-voice.start_time.astype('int'))\n",
    "# 不同的电话号码数/电话总数\n",
    "voice_opp_num = voice.groupby(['uid'])['opp_num'].agg({'unique_count': lambda x: len(pd.unique(x)),'count':'count'}).add_prefix('voice_opp_num_').reset_index()\n",
    "\n",
    "# 不同的电话号码头三位的数量\n",
    "voice_opp_head=voice.groupby(['uid'])['opp_head'].agg({'unique_count': lambda x: len(pd.unique(x))}).add_prefix('voice_opp_head_').reset_index()\n",
    "\n",
    "# 每种电话长度的通话次数\n",
    "voice_opp_len=voice.groupby(['uid','opp_len'])['uid'].count().unstack().add_prefix('voice_opp_len_').reset_index().fillna(0)\n",
    "\n",
    "# 每种类型通话的次数\n",
    "voice_call_type = voice.groupby(['uid','call_type'])['uid'].count().unstack().add_prefix('voice_call_type_').reset_index().fillna(0)\n",
    "\n",
    "# 每种类型通话的平均时长\n",
    "voice_dura_type = voice.groupby(['uid','call_type'])['voice_dura'].mean().unstack().add_prefix('voice_dura_type_').reset_index().fillna(0)\n",
    "\n",
    "# 接入/打出的电话总数\n",
    "voice_in_out = voice.groupby(['uid','in_out'])['uid'].count().unstack().add_prefix('voice_in_out_').reset_index().fillna(0)\n",
    "\n",
    "# 通话时长的各统计量\n",
    "voice_dura = voice.groupby(['uid'])['voice_dura'].agg(['std','max','min','median','mean','sum']).add_prefix('voice_dura_').reset_index().fillna(0)\n",
    "\n",
    "## 每个用户收/发电话的号码的不同号码数\n",
    "voice_opp_len_inout = voice.groupby(['uid','in_out'])['opp_num'].agg({'unique_count': lambda x: len(pd.unique(x)),'count':'count'}).unstack().add_prefix('voice_opp_inout_num_').reset_index().fillna(0)\n",
    "\n",
    "# 不同的日期数\n",
    "voice_day_count = voice.groupby(['uid'])['start_time'].agg({'voice_day_count': lambda x: len(pd.unique(x//1000000))}).reset_index().fillna(0)\n",
    "\n",
    "# 每天电话量\n",
    "voice_everyday_count = voice.groupby(['uid','date'])['uid'].count().unstack().add_prefix('voice_everyday_count').reset_index().fillna(0)\n",
    "\n",
    "# 每个小时段的平均电话量\n",
    "voice_hour_count = voice.groupby(['uid','hour'])['uid'].count().unstack().add_prefix('voice_hour_count').reset_index().fillna(0)"
   ]
  },
  {
   "cell_type": "markdown",
   "metadata": {},
   "source": [
    "## 短信记录"
   ]
  },
  {
   "cell_type": "code",
   "execution_count": 8,
   "metadata": {},
   "outputs": [
    {
     "name": "stderr",
     "output_type": "stream",
     "text": [
      "/home/suhuiling/anaconda3/lib/python3.6/site-packages/ipykernel_launcher.py:2: FutureWarning: using a dict on a Series for aggregation\n",
      "is deprecated and will be removed in a future version\n",
      "  \n",
      "/home/suhuiling/anaconda3/lib/python3.6/site-packages/ipykernel_launcher.py:5: FutureWarning: using a dict on a Series for aggregation\n",
      "is deprecated and will be removed in a future version\n",
      "  \"\"\"\n",
      "/home/suhuiling/anaconda3/lib/python3.6/site-packages/ipykernel_launcher.py:14: FutureWarning: using a dict on a Series for aggregation\n",
      "is deprecated and will be removed in a future version\n",
      "  \n"
     ]
    }
   ],
   "source": [
    "# 不同的短信号码数/电话总数\n",
    "sms_opp_num = sms.groupby(['uid'])['opp_num'].agg({'unique_count': lambda x: len(pd.unique(x)),'count':'count'}).add_prefix('sms_opp_num_').reset_index()\n",
    "\n",
    "# 号码不同头三位的数量\n",
    "sms_opp_head=sms.groupby(['uid'])['opp_head'].agg({'unique_count': lambda x: len(pd.unique(x))}).add_prefix('sms_opp_head_').reset_index()\n",
    "\n",
    "# 每种号码长度的通话次数\n",
    "sms_opp_len=sms.groupby(['uid','opp_len'])['uid'].count().unstack().add_prefix('sms_opp_len_').reset_index().fillna(0)\n",
    "\n",
    "# 接受/发出短信总数\n",
    "sms_in_out = sms.groupby(['uid','in_out'])['uid'].count().unstack().add_prefix('sms_in_out_').reset_index().fillna(0)\n",
    "\n",
    "# 不同的日期数\n",
    "sms_day_count = sms.groupby(['uid'])['start_time'].agg({'sms_day_count': lambda x: len(pd.unique(x//1000000))}).reset_index().fillna(0)\n",
    "\n",
    "# 每天短信量\n",
    "sms_everyday_count = sms.groupby(['uid','date'])['uid'].count().unstack().add_prefix('sms_everyday_count').reset_index().fillna(0)\n",
    "\n",
    "# 每个小时段的平均短信量\n",
    "sms_hour_count = sms.groupby(['uid','hour'])['uid'].count().unstack().add_prefix('sms_hour_count').reset_index().fillna(0)"
   ]
  },
  {
   "cell_type": "markdown",
   "metadata": {},
   "source": [
    "### 网站/APP记录"
   ]
  },
  {
   "cell_type": "code",
   "execution_count": 34,
   "metadata": {},
   "outputs": [
    {
     "name": "stderr",
     "output_type": "stream",
     "text": [
      "/home/suhuiling/anaconda3/lib/python3.6/site-packages/ipykernel_launcher.py:2: FutureWarning: using a dict on a Series for aggregation\n",
      "is deprecated and will be removed in a future version\n",
      "  \n",
      "/home/suhuiling/anaconda3/lib/python3.6/site-packages/ipykernel_launcher.py:20: FutureWarning: using a dict on a Series for aggregation\n",
      "is deprecated and will be removed in a future version\n"
     ]
    }
   ],
   "source": [
    "# 不同wa数量/wa总数\n",
    "wa_name_cnt = wa.groupby(['uid'])['wa_name'].agg({'unique_count': lambda x: len(pd.unique(x)),'count':'count'}).add_prefix('wa_name_').reset_index()\n",
    "\n",
    "# 访问wa次数的各统计量\n",
    "visit_cnt = wa.groupby(['uid'])['visit_cnt'].agg(['std','max','min','median','mean','sum']).add_prefix('wa_visit_cnt_').reset_index()\n",
    "\n",
    "# 访问wa时长的各统计量\n",
    "visit_dura = wa.groupby(['uid'])['visit_dura'].agg(['std','max','min','median','mean','sum']).add_prefix('wa_visit_dura_').reset_index()\n",
    "\n",
    "# 上传流量的各统计量\n",
    "up_flow = wa.groupby(['uid'])['up_flow'].agg(['std','max','min','median','mean','sum']).add_prefix('wa_up_flow_').reset_index()\n",
    "\n",
    "# 下载流量的各统计量\n",
    "down_flow = wa.groupby(['uid'])['down_flow'].agg(['std','max','min','median','mean','sum']).add_prefix('wa_down_flow_').reset_index()\n",
    "\n",
    "## 每个用户上/下的流量\n",
    "w_a_upflow = wa.groupby(['uid','wa_type'])['up_flow'].agg(['std','max','min','median','mean','sum']).add_prefix('w_a_upflow_').unstack().reset_index().fillna(0)\n",
    "\n",
    "# 不同的日期数\n",
    "wa_day_count = wa.groupby(['uid'])['date'].agg({'wa_day_count': lambda x: len(pd.unique(x))}).reset_index().fillna(0)\n",
    "\n",
    "# 每天web上传流量\n",
    "wa_everyday_web_up_flow = wa[wa.wa_type==0].groupby(['uid','date'])['up_flow'].sum().unstack().add_prefix('wa_everyday_web_up_flow').reset_index().fillna(0)\n",
    "\n",
    "# 每天app上传流量\n",
    "wa_everyday_app_up_flow = wa[wa.wa_type==1].groupby(['uid','date'])['up_flow'].sum().unstack().add_prefix('wa_everyday_app_up_flow').reset_index().fillna(0)\n",
    "\n",
    "# 每天web下载流量\n",
    "wa_everyday_web_down_flow = wa[wa.wa_type==0].groupby(['uid','date'])['down_flow'].sum().unstack().add_prefix('wa_everyday_web_down_flow').reset_index().fillna(0)\n",
    "\n",
    "# 每天app下载流量\n",
    "wa_everyday_app_down_flow = wa[wa.wa_type==1].groupby(['uid','date'])['down_flow'].sum().unstack().add_prefix('wa_everyday_app_down_flow').reset_index().fillna(0)\n",
    "\n",
    "# 每天web访问时长\n",
    "wa_everyday_web_visit_dura = wa[wa.wa_type==0].groupby(['uid','date'])['visit_dura'].sum().unstack().add_prefix('wa_everyday_web_visit_dura').reset_index().fillna(0)\n",
    "\n",
    "# 每天app访问时长\n",
    "wa_everyday_app_visit_dura = wa[wa.wa_type==1].groupby(['uid','date'])['visit_dura'].sum().unstack().add_prefix('wa_everyday_app_visit_dura').reset_index().fillna(0)"
   ]
  },
  {
   "cell_type": "code",
   "execution_count": 20,
   "metadata": {
    "collapsed": true
   },
   "outputs": [],
   "source": [
    "# 上传流量最多的w名字\n",
    "wa_w = wa[wa.wa_type==0]\n",
    "wa_name = wa_w.groupby(['uid','wa_name'])['up_flow'].sum().unstack().add_prefix('up').reset_index().fillna(0)\n",
    "wa_uid = wa_name.uid;\n",
    "wa_name = wa_name.drop(['uid'],axis=1)\n",
    "col_name = np.arange(0,wa_name.shape[1])\n",
    "col_name = col_name.astype('U')\n",
    "wa_name.columns =col_name\n",
    "wa_name_t = wa_name.T\n",
    "col_name2 = np.arange(0,wa_name_t.shape[1])\n",
    "col_name2 = col_name2.astype('U')\n",
    "wa_name_t.columns =col_name2\n",
    "ss = wa_name_t.idxmax()\n",
    "wa_most_up_webname = pd.DataFrame(wa_uid, columns=['uid'])\n",
    "l = list(ss)\n",
    "wa_most_up_webname['wa_most_up_webname'] = l"
   ]
  },
  {
   "cell_type": "code",
   "execution_count": 21,
   "metadata": {
    "collapsed": true
   },
   "outputs": [],
   "source": [
    "# 上传流量最多的a名字\n",
    "wa_w = wa[wa.wa_type==1]\n",
    "wa_name = wa_w.groupby(['uid','wa_name'])['up_flow'].sum().unstack().add_prefix('up').reset_index().fillna(0)\n",
    "wa_uid = wa_name.uid;\n",
    "wa_name = wa_name.drop(['uid'],axis=1)\n",
    "col_name = np.arange(0,wa_name.shape[1])\n",
    "col_name = col_name.astype('U')\n",
    "wa_name.columns =col_name\n",
    "wa_name_t = wa_name.T\n",
    "col_name2 = np.arange(0,wa_name_t.shape[1])\n",
    "col_name2 = col_name2.astype('U')\n",
    "wa_name_t.columns =col_name2\n",
    "ss = wa_name_t.idxmax()\n",
    "wa_most_up_appname = pd.DataFrame(wa_uid, columns=['uid'])\n",
    "l = list(ss)\n",
    "wa_most_up_appname['wa_most_up_appname'] = l"
   ]
  },
  {
   "cell_type": "code",
   "execution_count": 22,
   "metadata": {
    "collapsed": true
   },
   "outputs": [],
   "source": [
    "# 下载流量最多的w名字\n",
    "wa_w = wa[wa.wa_type==0]\n",
    "wa_name = wa_w.groupby(['uid','wa_name'])['down_flow'].sum().unstack().add_prefix('down').reset_index().fillna(0)\n",
    "wa_uid = wa_name.uid;\n",
    "wa_name = wa_name.drop(['uid'],axis=1)\n",
    "col_name = np.arange(0,wa_name.shape[1])\n",
    "col_name = col_name.astype('U')\n",
    "wa_name.columns =col_name\n",
    "wa_name_t = wa_name.T\n",
    "col_name2 = np.arange(0,wa_name_t.shape[1])\n",
    "col_name2 = col_name2.astype('U')\n",
    "wa_name_t.columns =col_name2\n",
    "ss = wa_name_t.idxmax()\n",
    "wa_most_down_webname = pd.DataFrame(wa_uid, columns=['uid'])\n",
    "l = list(ss)\n",
    "wa_most_down_webname['wa_most_down_webname'] = l"
   ]
  },
  {
   "cell_type": "code",
   "execution_count": 23,
   "metadata": {
    "collapsed": true
   },
   "outputs": [],
   "source": [
    "# 下载流量最多的a名字\n",
    "wa_w = wa[wa.wa_type==1]\n",
    "wa_name = wa_w.groupby(['uid','wa_name'])['down_flow'].sum().unstack().add_prefix('down').reset_index().fillna(0)\n",
    "wa_uid = wa_name.uid;\n",
    "wa_name = wa_name.drop(['uid'],axis=1)\n",
    "col_name = np.arange(0,wa_name.shape[1])\n",
    "col_name = col_name.astype('U')\n",
    "wa_name.columns =col_name\n",
    "wa_name_t = wa_name.T\n",
    "col_name2 = np.arange(0,wa_name_t.shape[1])\n",
    "col_name2 = col_name2.astype('U')\n",
    "wa_name_t.columns =col_name2\n",
    "ss = wa_name_t.idxmax()\n",
    "wa_most_down_appname = pd.DataFrame(wa_uid, columns=['uid'])\n",
    "l = list(ss)\n",
    "wa_most_down_appname['wa_most_down_appname'] = l"
   ]
  },
  {
   "cell_type": "code",
   "execution_count": 24,
   "metadata": {
    "collapsed": true
   },
   "outputs": [],
   "source": [
    "# 访问次数最多的w名字\n",
    "wa_w = wa[wa.wa_type==0]\n",
    "wa_name = wa_w.groupby(['uid','wa_name'])['visit_cnt'].sum().unstack().add_prefix('cnt').reset_index().fillna(0)\n",
    "wa_uid = wa_name.uid;\n",
    "wa_name = wa_name.drop(['uid'],axis=1)\n",
    "col_name = np.arange(0,wa_name.shape[1])\n",
    "col_name = col_name.astype('U')\n",
    "wa_name.columns =col_name\n",
    "wa_name_t = wa_name.T\n",
    "col_name2 = np.arange(0,wa_name_t.shape[1])\n",
    "col_name2 = col_name2.astype('U')\n",
    "wa_name_t.columns =col_name2\n",
    "ss = wa_name_t.idxmax()\n",
    "wa_most_cnt_webname = pd.DataFrame(wa_uid, columns=['uid'])\n",
    "l = list(ss)\n",
    "wa_most_cnt_webname['wa_most_cnt_webname'] = l"
   ]
  },
  {
   "cell_type": "code",
   "execution_count": 25,
   "metadata": {
    "collapsed": true
   },
   "outputs": [],
   "source": [
    "# 访问次数最多的a名字\n",
    "wa_w = wa[wa.wa_type==1]\n",
    "wa_name = wa_w.groupby(['uid','wa_name'])['visit_cnt'].sum().unstack().add_prefix('cnt').reset_index().fillna(0)\n",
    "wa_uid = wa_name.uid;\n",
    "wa_name = wa_name.drop(['uid'],axis=1)\n",
    "col_name = np.arange(0,wa_name.shape[1])\n",
    "col_name = col_name.astype('U')\n",
    "wa_name.columns =col_name\n",
    "wa_name_t = wa_name.T\n",
    "col_name2 = np.arange(0,wa_name_t.shape[1])\n",
    "col_name2 = col_name2.astype('U')\n",
    "wa_name_t.columns =col_name2\n",
    "ss = wa_name_t.idxmax()\n",
    "wa_most_cnt_appname = pd.DataFrame(wa_uid, columns=['uid'])\n",
    "l = list(ss)\n",
    "wa_most_cnt_appname['wa_most_cnt_appname'] = l"
   ]
  },
  {
   "cell_type": "code",
   "execution_count": 26,
   "metadata": {
    "collapsed": true
   },
   "outputs": [],
   "source": [
    "# 访问时长最多的w名字\n",
    "wa_w = wa[wa.wa_type==0]\n",
    "wa_name = wa_w.groupby(['uid','wa_name'])['visit_dura'].sum().unstack().add_prefix('cnt').reset_index().fillna(0)\n",
    "wa_uid = wa_name.uid;\n",
    "wa_name = wa_name.drop(['uid'],axis=1)\n",
    "col_name = np.arange(0,wa_name.shape[1])\n",
    "col_name = col_name.astype('U')\n",
    "wa_name.columns =col_name\n",
    "wa_name_t = wa_name.T\n",
    "col_name2 = np.arange(0,wa_name_t.shape[1])\n",
    "col_name2 = col_name2.astype('U')\n",
    "wa_name_t.columns =col_name2\n",
    "ss = wa_name_t.idxmax()\n",
    "wa_most_dura_webname = pd.DataFrame(wa_uid, columns=['uid'])\n",
    "l = list(ss)\n",
    "wa_most_dura_webname['wa_most_dura_webname'] = l"
   ]
  },
  {
   "cell_type": "code",
   "execution_count": 27,
   "metadata": {
    "collapsed": true
   },
   "outputs": [],
   "source": [
    "# 访问时长最多的a名字\n",
    "wa_w = wa[wa.wa_type==1]\n",
    "wa_name = wa_w.groupby(['uid','wa_name'])['visit_dura'].sum().unstack().add_prefix('cnt').reset_index().fillna(0)\n",
    "wa_uid = wa_name.uid;\n",
    "wa_name = wa_name.drop(['uid'],axis=1)\n",
    "col_name = np.arange(0,wa_name.shape[1])\n",
    "col_name = col_name.astype('U')\n",
    "wa_name.columns =col_name\n",
    "wa_name_t = wa_name.T\n",
    "col_name2 = np.arange(0,wa_name_t.shape[1])\n",
    "col_name2 = col_name2.astype('U')\n",
    "wa_name_t.columns =col_name2\n",
    "ss = wa_name_t.idxmax()\n",
    "wa_most_dura_appname = pd.DataFrame(wa_uid, columns=['uid'])\n",
    "l = list(ss)\n",
    "wa_most_dura_appname['wa_most_dura_appname'] = l"
   ]
  },
  {
   "cell_type": "code",
   "execution_count": 35,
   "metadata": {
    "collapsed": true
   },
   "outputs": [],
   "source": [
    "# 将各个特征拼在一起\n",
    "feature = [voice_opp_num,voice_opp_head,voice_opp_len,voice_call_type,voice_in_out,voice_dura,\n",
    "           voice_opp_len_inout,voice_dura_type,voice_day_count,voice_everyday_count,voice_hour_count,\n",
    "           sms_opp_num,sms_opp_head,sms_opp_len,sms_in_out,sms_day_count,sms_everyday_count,sms_hour_count,\n",
    "           wa_name_cnt,visit_cnt,visit_dura,up_flow,down_flow,w_a_upflow,wa_day_count,wa_everyday_web_up_flow,\n",
    "           wa_everyday_app_up_flow,wa_everyday_web_down_flow,wa_everyday_app_down_flow,\n",
    "           wa_everyday_web_visit_dura,wa_everyday_app_visit_dura,wa_most_up_webname,wa_most_down_webname,\n",
    "           wa_most_cnt_webname,wa_most_dura_webname,wa_most_up_appname,wa_most_down_appname,wa_most_cnt_appname,\n",
    "           wa_most_dura_appname]"
   ]
  },
  {
   "cell_type": "code",
   "execution_count": 36,
   "metadata": {},
   "outputs": [
    {
     "name": "stderr",
     "output_type": "stream",
     "text": [
      "/home/suhuiling/anaconda3/lib/python3.6/site-packages/pandas/core/reshape/merge.py:551: UserWarning: merging between different levels can give an unintended result (1 levels on the left, 2 on the right)\n",
      "  warnings.warn(msg, UserWarning)\n",
      "/home/suhuiling/anaconda3/lib/python3.6/site-packages/pandas/core/reshape/merge.py:862: PerformanceWarning: dropping on a non-lexsorted multi-index without a level parameter may impact performance.\n",
      "  self.right = self.right.drop(right_drop, axis=1)\n"
     ]
    }
   ],
   "source": [
    "# 将train特征和test特征分离\n",
    "train_feature = uid_train\n",
    "for feat in feature:\n",
    "    train_feature=pd.merge(train_feature,feat,how='left',on='uid')"
   ]
  },
  {
   "cell_type": "code",
   "execution_count": 37,
   "metadata": {},
   "outputs": [
    {
     "name": "stderr",
     "output_type": "stream",
     "text": [
      "/home/suhuiling/anaconda3/lib/python3.6/site-packages/pandas/core/reshape/merge.py:551: UserWarning: merging between different levels can give an unintended result (1 levels on the left, 2 on the right)\n",
      "  warnings.warn(msg, UserWarning)\n",
      "/home/suhuiling/anaconda3/lib/python3.6/site-packages/pandas/core/reshape/merge.py:862: PerformanceWarning: dropping on a non-lexsorted multi-index without a level parameter may impact performance.\n",
      "  self.right = self.right.drop(right_drop, axis=1)\n"
     ]
    }
   ],
   "source": [
    "test_feature = uid_test\n",
    "for feat in feature:\n",
    "    test_feature=pd.merge(test_feature,feat,how='left',on='uid')"
   ]
  },
  {
   "cell_type": "code",
   "execution_count": 38,
   "metadata": {
    "collapsed": true
   },
   "outputs": [],
   "source": [
    "# 填补Nan\n",
    "train_feature.fillna(0,inplace=True)\n",
    "test_feature.fillna(0,inplace=True)"
   ]
  },
  {
   "cell_type": "code",
   "execution_count": 39,
   "metadata": {
    "collapsed": true
   },
   "outputs": [],
   "source": [
    "# 保存特征值\n",
    "train_feature.to_csv('../data/train_featureV1.csv',index=None)\n",
    "test_feature.to_csv('../data/test_featureV1.csv',index=None)"
   ]
  },
  {
   "cell_type": "code",
   "execution_count": 40,
   "metadata": {},
   "outputs": [
    {
     "data": {
      "text/html": [
       "<div>\n",
       "<style>\n",
       "    .dataframe thead tr:only-child th {\n",
       "        text-align: right;\n",
       "    }\n",
       "\n",
       "    .dataframe thead th {\n",
       "        text-align: left;\n",
       "    }\n",
       "\n",
       "    .dataframe tbody tr th {\n",
       "        vertical-align: top;\n",
       "    }\n",
       "</style>\n",
       "<table border=\"1\" class=\"dataframe\">\n",
       "  <thead>\n",
       "    <tr style=\"text-align: right;\">\n",
       "      <th></th>\n",
       "      <th>uid</th>\n",
       "      <th>label</th>\n",
       "      <th>voice_opp_num_unique_count</th>\n",
       "      <th>voice_opp_num_count</th>\n",
       "      <th>voice_opp_head_unique_count</th>\n",
       "      <th>voice_opp_len_3</th>\n",
       "      <th>voice_opp_len_5</th>\n",
       "      <th>voice_opp_len_6</th>\n",
       "      <th>voice_opp_len_7</th>\n",
       "      <th>voice_opp_len_8</th>\n",
       "      <th>...</th>\n",
       "      <th>wa_everyday_app_visit_dura44</th>\n",
       "      <th>wa_everyday_app_visit_dura45</th>\n",
       "      <th>wa_most_up_webname</th>\n",
       "      <th>wa_most_down_webname</th>\n",
       "      <th>wa_most_cnt_webname</th>\n",
       "      <th>wa_most_dura_webname</th>\n",
       "      <th>wa_most_up_appname</th>\n",
       "      <th>wa_most_down_appname</th>\n",
       "      <th>wa_most_cnt_appname</th>\n",
       "      <th>wa_most_dura_appname</th>\n",
       "    </tr>\n",
       "  </thead>\n",
       "  <tbody>\n",
       "    <tr>\n",
       "      <th>0</th>\n",
       "      <td>u0001</td>\n",
       "      <td>0</td>\n",
       "      <td>22.0</td>\n",
       "      <td>79.0</td>\n",
       "      <td>17.0</td>\n",
       "      <td>0.0</td>\n",
       "      <td>3.0</td>\n",
       "      <td>0.0</td>\n",
       "      <td>0.0</td>\n",
       "      <td>0.0</td>\n",
       "      <td>...</td>\n",
       "      <td>1178226.0</td>\n",
       "      <td>831389.0</td>\n",
       "      <td>2814</td>\n",
       "      <td>2813</td>\n",
       "      <td>1097</td>\n",
       "      <td>2814</td>\n",
       "      <td>752</td>\n",
       "      <td>752</td>\n",
       "      <td>752</td>\n",
       "      <td>752</td>\n",
       "    </tr>\n",
       "    <tr>\n",
       "      <th>1</th>\n",
       "      <td>u0002</td>\n",
       "      <td>0</td>\n",
       "      <td>2.0</td>\n",
       "      <td>2.0</td>\n",
       "      <td>1.0</td>\n",
       "      <td>0.0</td>\n",
       "      <td>0.0</td>\n",
       "      <td>0.0</td>\n",
       "      <td>0.0</td>\n",
       "      <td>0.0</td>\n",
       "      <td>...</td>\n",
       "      <td>0.0</td>\n",
       "      <td>0.0</td>\n",
       "      <td>2813</td>\n",
       "      <td>9419</td>\n",
       "      <td>9419</td>\n",
       "      <td>9419</td>\n",
       "      <td>0</td>\n",
       "      <td>0</td>\n",
       "      <td>0</td>\n",
       "      <td>0</td>\n",
       "    </tr>\n",
       "    <tr>\n",
       "      <th>2</th>\n",
       "      <td>u0003</td>\n",
       "      <td>0</td>\n",
       "      <td>15.0</td>\n",
       "      <td>21.0</td>\n",
       "      <td>10.0</td>\n",
       "      <td>0.0</td>\n",
       "      <td>1.0</td>\n",
       "      <td>0.0</td>\n",
       "      <td>0.0</td>\n",
       "      <td>2.0</td>\n",
       "      <td>...</td>\n",
       "      <td>443061.0</td>\n",
       "      <td>2958897.0</td>\n",
       "      <td>12468</td>\n",
       "      <td>2813</td>\n",
       "      <td>1097</td>\n",
       "      <td>12468</td>\n",
       "      <td>774</td>\n",
       "      <td>774</td>\n",
       "      <td>752</td>\n",
       "      <td>752</td>\n",
       "    </tr>\n",
       "    <tr>\n",
       "      <th>3</th>\n",
       "      <td>u0004</td>\n",
       "      <td>0</td>\n",
       "      <td>77.0</td>\n",
       "      <td>254.0</td>\n",
       "      <td>31.0</td>\n",
       "      <td>0.0</td>\n",
       "      <td>1.0</td>\n",
       "      <td>0.0</td>\n",
       "      <td>0.0</td>\n",
       "      <td>12.0</td>\n",
       "      <td>...</td>\n",
       "      <td>935881.0</td>\n",
       "      <td>247476.0</td>\n",
       "      <td>670</td>\n",
       "      <td>2813</td>\n",
       "      <td>12468</td>\n",
       "      <td>12468</td>\n",
       "      <td>752</td>\n",
       "      <td>752</td>\n",
       "      <td>752</td>\n",
       "      <td>752</td>\n",
       "    </tr>\n",
       "    <tr>\n",
       "      <th>4</th>\n",
       "      <td>u0005</td>\n",
       "      <td>0</td>\n",
       "      <td>55.0</td>\n",
       "      <td>401.0</td>\n",
       "      <td>28.0</td>\n",
       "      <td>0.0</td>\n",
       "      <td>4.0</td>\n",
       "      <td>0.0</td>\n",
       "      <td>0.0</td>\n",
       "      <td>0.0</td>\n",
       "      <td>...</td>\n",
       "      <td>181149.0</td>\n",
       "      <td>5494.0</td>\n",
       "      <td>7509</td>\n",
       "      <td>3317</td>\n",
       "      <td>7509</td>\n",
       "      <td>7509</td>\n",
       "      <td>752</td>\n",
       "      <td>752</td>\n",
       "      <td>752</td>\n",
       "      <td>752</td>\n",
       "    </tr>\n",
       "  </tbody>\n",
       "</table>\n",
       "<p>5 rows × 529 columns</p>\n",
       "</div>"
      ],
      "text/plain": [
       "     uid  label  voice_opp_num_unique_count  voice_opp_num_count  \\\n",
       "0  u0001      0                        22.0                 79.0   \n",
       "1  u0002      0                         2.0                  2.0   \n",
       "2  u0003      0                        15.0                 21.0   \n",
       "3  u0004      0                        77.0                254.0   \n",
       "4  u0005      0                        55.0                401.0   \n",
       "\n",
       "   voice_opp_head_unique_count  voice_opp_len_3  voice_opp_len_5  \\\n",
       "0                         17.0              0.0              3.0   \n",
       "1                          1.0              0.0              0.0   \n",
       "2                         10.0              0.0              1.0   \n",
       "3                         31.0              0.0              1.0   \n",
       "4                         28.0              0.0              4.0   \n",
       "\n",
       "   voice_opp_len_6  voice_opp_len_7  voice_opp_len_8          ...           \\\n",
       "0              0.0              0.0              0.0          ...            \n",
       "1              0.0              0.0              0.0          ...            \n",
       "2              0.0              0.0              2.0          ...            \n",
       "3              0.0              0.0             12.0          ...            \n",
       "4              0.0              0.0              0.0          ...            \n",
       "\n",
       "   wa_everyday_app_visit_dura44  wa_everyday_app_visit_dura45  \\\n",
       "0                     1178226.0                      831389.0   \n",
       "1                           0.0                           0.0   \n",
       "2                      443061.0                     2958897.0   \n",
       "3                      935881.0                      247476.0   \n",
       "4                      181149.0                        5494.0   \n",
       "\n",
       "   wa_most_up_webname  wa_most_down_webname  wa_most_cnt_webname  \\\n",
       "0                2814                  2813                 1097   \n",
       "1                2813                  9419                 9419   \n",
       "2               12468                  2813                 1097   \n",
       "3                 670                  2813                12468   \n",
       "4                7509                  3317                 7509   \n",
       "\n",
       "   wa_most_dura_webname  wa_most_up_appname  wa_most_down_appname  \\\n",
       "0                  2814                 752                   752   \n",
       "1                  9419                   0                     0   \n",
       "2                 12468                 774                   774   \n",
       "3                 12468                 752                   752   \n",
       "4                  7509                 752                   752   \n",
       "\n",
       "   wa_most_cnt_appname  wa_most_dura_appname  \n",
       "0                  752                   752  \n",
       "1                    0                     0  \n",
       "2                  752                   752  \n",
       "3                  752                   752  \n",
       "4                  752                   752  \n",
       "\n",
       "[5 rows x 529 columns]"
      ]
     },
     "execution_count": 40,
     "metadata": {},
     "output_type": "execute_result"
    }
   ],
   "source": [
    "train_feature.head()"
   ]
  },
  {
   "cell_type": "code",
   "execution_count": null,
   "metadata": {
    "collapsed": true
   },
   "outputs": [],
   "source": []
  },
  {
   "cell_type": "code",
   "execution_count": null,
   "metadata": {
    "collapsed": true
   },
   "outputs": [],
   "source": []
  }
 ],
 "metadata": {
  "kernelspec": {
   "display_name": "Python 3",
   "language": "python",
   "name": "python3"
  },
  "language_info": {
   "codemirror_mode": {
    "name": "ipython",
    "version": 3
   },
   "file_extension": ".py",
   "mimetype": "text/x-python",
   "name": "python",
   "nbconvert_exporter": "python",
   "pygments_lexer": "ipython3",
   "version": "3.6.1"
  }
 },
 "nbformat": 4,
 "nbformat_minor": 2
}
